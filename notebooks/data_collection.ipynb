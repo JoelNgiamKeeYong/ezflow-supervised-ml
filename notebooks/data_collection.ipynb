{
 "cells": [
  {
   "cell_type": "markdown",
   "id": "6099c3b4",
   "metadata": {},
   "source": [
    "# **📑📥🗃️Data Collection**\n",
    "\n",
    "<img src=\"../assets/banner_data_collection.jpg\" style=\"width:95%\">"
   ]
  },
  {
   "cell_type": "markdown",
   "id": "46f0ba0b",
   "metadata": {},
   "source": [
    "---\n",
    "---\n",
    "## Downloading data from online source"
   ]
  },
  {
   "cell_type": "code",
   "execution_count": null,
   "id": "9eccb4fc",
   "metadata": {
    "vscode": {
     "languageId": "plaintext"
    }
   },
   "outputs": [],
   "source": []
  },
  {
   "cell_type": "code",
   "execution_count": null,
   "id": "a6a448d6",
   "metadata": {
    "vscode": {
     "languageId": "plaintext"
    }
   },
   "outputs": [],
   "source": []
  },
  {
   "cell_type": "code",
   "execution_count": null,
   "id": "2e70f5ba",
   "metadata": {
    "vscode": {
     "languageId": "plaintext"
    }
   },
   "outputs": [],
   "source": []
  }
 ],
 "metadata": {
  "language_info": {
   "name": "python"
  }
 },
 "nbformat": 4,
 "nbformat_minor": 5
}
