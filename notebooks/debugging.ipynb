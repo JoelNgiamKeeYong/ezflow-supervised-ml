{
 "cells": [
  {
   "cell_type": "markdown",
   "id": "ca4198f7",
   "metadata": {},
   "source": []
  },
  {
   "cell_type": "code",
   "execution_count": 4,
   "id": "28cb4705",
   "metadata": {},
   "outputs": [],
   "source": [
    "import sys\n",
    "from pathlib import Path\n",
    "\n",
    "# Add project root to sys.path\n",
    "project_root = Path().resolve().parent  # if running from folder with parent directory as project root\n",
    "sys.path.append(str(project_root))"
   ]
  },
  {
   "cell_type": "code",
   "execution_count": 6,
   "id": "7ec3c6a1",
   "metadata": {},
   "outputs": [
    {
     "name": "stdout",
     "output_type": "stream",
     "text": [
      "\n",
      "Imputed Train Data:\n",
      "   Gender Smoking_Status   Comorbidity\n",
      "0    Male            Yes  Hypertension\n",
      "1    Male             No  Hypertension\n",
      "2  Female            Yes      Diabetes\n",
      "3  Female             No  Hypertension\n",
      "\n",
      "Imputed Test Data:\n",
      "   Gender Smoking_Status   Comorbidity\n",
      "0    Male            Yes  Hypertension\n",
      "1    Male             No  Hypertension\n",
      "2  Female            Yes      Diabetes\n",
      "3  Female             No  Hypertension\n"
     ]
    }
   ],
   "source": [
    "import pandas as pd\n",
    "\n",
    "# ======================\n",
    "# 1️⃣ Create dummy dataset\n",
    "# ======================\n",
    "data_train = {\n",
    "    'Gender': ['Male', 'Male', 'Female', 'Female'],\n",
    "    'Smoking_Status': ['Yes', 'No', 'Yes', 'No'],\n",
    "    'Comorbidity': ['Hypertension', 'Hypertension', 'Diabetes', 'Hypertension']  \n",
    "}\n",
    "\n",
    "df_train = pd.DataFrame(data_train)\n",
    "df_test = pd.DataFrame({\n",
    "    'Gender': ['Male', 'Male', 'Female', 'Female'],\n",
    "    'Smoking_Status': ['Yes', 'No', 'Yes', 'No'],\n",
    "    'Comorbidity': ['unknown', 'unknown', 'unknown', 'unknown']\n",
    "})\n",
    "\n",
    "# ======================\n",
    "# 2️⃣ Initialize KModesImputer\n",
    "# ======================\n",
    "from src.data_preprocessor import KModesImputer\n",
    "\n",
    "imputer = KModesImputer(\n",
    "    columns_for_clustering=['Gender', 'Smoking_Status'],\n",
    "    column_to_impute='Comorbidity',\n",
    "    n_clusters=4,\n",
    "    placeholder='unknown',\n",
    "    random_state=42\n",
    ")\n",
    "\n",
    "# ======================\n",
    "# 3️⃣ Fit and transform\n",
    "# ======================\n",
    "imputer.fit(df_train)\n",
    "imputed_train = imputer.transform(df_train)\n",
    "imputed_test = imputer.transform(df_test)\n",
    "\n",
    "# ======================\n",
    "# 4️⃣ Show results\n",
    "# ======================\n",
    "# df_train['Comorbidity_Imputed'] = imputed_train\n",
    "# df_test['Comorbidity_Imputed'] = imputed_test\n",
    "\n",
    "print(\"\\nImputed Train Data:\")\n",
    "print(imputed_train)\n",
    "print(\"\\nImputed Test Data:\")\n",
    "print(imputed_test)"
   ]
  },
  {
   "cell_type": "code",
   "execution_count": null,
   "id": "2c88e92e",
   "metadata": {},
   "outputs": [],
   "source": []
  }
 ],
 "metadata": {
  "kernelspec": {
   "display_name": "Python 3",
   "language": "python",
   "name": "python3"
  },
  "language_info": {
   "codemirror_mode": {
    "name": "ipython",
    "version": 3
   },
   "file_extension": ".py",
   "mimetype": "text/x-python",
   "name": "python",
   "nbconvert_exporter": "python",
   "pygments_lexer": "ipython3",
   "version": "3.12.0"
  }
 },
 "nbformat": 4,
 "nbformat_minor": 5
}
