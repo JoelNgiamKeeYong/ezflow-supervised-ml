{
 "cells": [
  {
   "cell_type": "markdown",
   "id": "5d09bdaa",
   "metadata": {},
   "source": [
    "# 🔎📊🧩 **Exploratory Data Analysis (EDA)**\n",
    "\n",
    "<img src=\"../assets/banner_eda.jpg\" style=\"width:95%\">\n",
    "\n",
    "_Estimated run time: **2min**_"
   ]
  },
  {
   "cell_type": "markdown",
   "id": "b3c25d0d",
   "metadata": {},
   "source": [
    "This notebook provides a comprehensive and structured exploration of the dataset to uncover patterns, trends, and insights from the dataset. The analysis is designed to guide feature engineering, preprocessing, and modeling decisions, ensuring a robust and interpretable machine learning pipeline.\n",
    "\n",
    "To ensure **clarity**, **consistency**, and **ease of navigation**, the following intuitive indicators have been adopted to categorize and guide the reader through the various stages of the analysis:\n",
    "\n",
    "- **⬜ General Steps**: Core tasks such as data loading, inspection, and preprocessing to set up for analysis.\n",
    "\n",
    "- **📊 Analytical Procedures**: Statistical tests, visualizations, and exploratory techniques to uncover patterns and relationships.\n",
    "\n",
    "- **💡 Key Insights**: Actionable findings and hypotheses derived to guide feature engineering and modeling decisions.\n",
    "\n",
    "- **🧼 Data Cleaning**: Addressing missing values, outliers, and inconsistencies to ensure data integrity and reliability.\n",
    "\n",
    "- **🛠️ Feature Engineering**: Creating, transforming, and selecting features to enhance model performance and interpretability while reflecting domain knowledge.\n",
    "\n",
    "- **❌ Ineffective Attempts**: Feature engineering efforts that did not yield improvements but are worth noting for transparency or future reference.\n",
    "\n",
    "- **⚠️ Alerts**: Important notes or warnings highlighting challenges, limitations, or implications for the analysis and pipeline design."
   ]
  },
  {
   "cell_type": "markdown",
   "id": "b25e6443",
   "metadata": {},
   "source": [
    "---\n",
    "---\n",
    "---\n",
    "# 🎯 **1. Introduction** "
   ]
  },
  {
   "cell_type": "markdown",
   "id": "eaa05acf",
   "metadata": {},
   "source": [
    "---\n",
    "## └─ **1.1. Project Goals**\n",
    "\n",
    "This project aims to **predict client subscriptions to term deposits at AI-Vive-Banking using client attributes and marketing campaign data. Accurate predictions will help optimize marketing strategies, allocate resources effectively, and improve customer engagement.** `TO UPDATE`\n",
    "\n",
    "The EDA focuses on three key areas:\n",
    "\n",
    "- Data Overview: Assess dataset structure, quality, missing values, and outliers to ensure reliability for modeling.\n",
    "\n",
    "- Feature Analysis: Examine feature-target relationships, distributions, and correlations to identify predictive signals.\n",
    "\n",
    "- Pattern Recognition: Discover trends, behavioral patterns, and client segments to guide targeted marketing and enhance predictive accuracy.\n",
    "\n",
    "Insights from this EDA will inform feature engineering, preprocessing, and model selection, enabling robust, interpretable machine learning aligned with business goals."
   ]
  },
  {
   "cell_type": "markdown",
   "id": "97d155d2",
   "metadata": {},
   "source": [
    "---\n",
    "## └─ **1.2. Preliminary Understanding**"
   ]
  },
  {
   "cell_type": "code",
   "execution_count": null,
   "id": "b4017019",
   "metadata": {},
   "outputs": [],
   "source": []
  },
  {
   "cell_type": "markdown",
   "id": "990eef32",
   "metadata": {},
   "source": [
    "---\n",
    "---\n",
    "---\n",
    "# **⚙️ 2. Project Setup**"
   ]
  },
  {
   "cell_type": "markdown",
   "id": "ce65c0f7",
   "metadata": {},
   "source": [
    "---\n",
    "### └─ **2.1. Import general libraries**"
   ]
  },
  {
   "cell_type": "code",
   "execution_count": null,
   "id": "e452b4a3",
   "metadata": {},
   "outputs": [],
   "source": [
    "import os\n",
    "import joblib\n",
    "import yaml\n",
    "import requests\n",
    "from pathlib import Path"
   ]
  },
  {
   "cell_type": "markdown",
   "id": "ab96a8ba",
   "metadata": {},
   "source": [
    "---\n",
    "### └─ **2.2. Import and configure data libraries**"
   ]
  },
  {
   "cell_type": "code",
   "execution_count": null,
   "id": "0d154ae6",
   "metadata": {},
   "outputs": [],
   "source": [
    "import numpy as np\n",
    "import pandas as pd\n",
    "\n",
    "np.random.seed(42)  # Seed value for numpy.random for reproducibility\n",
    "\n",
    "pd.set_option('max_colwidth', 40)  # Set the maximum width of each column to 40 characters for better readability\n",
    "pd.set_option('display.max_columns', None)  # Display all columns in the output (instead of truncating them with \"...\" for wide DataFrames)\n",
    "pd.set_option('display.float_format', lambda x: '%.3f' % x)  # Limit float precision for cleaner output"
   ]
  },
  {
   "cell_type": "markdown",
   "id": "f441291d",
   "metadata": {},
   "source": [
    "---\n",
    "### └─ **2.3. Import and configure visualization libraries**"
   ]
  },
  {
   "cell_type": "code",
   "execution_count": null,
   "id": "a4b44450",
   "metadata": {},
   "outputs": [],
   "source": [
    "from matplotlib import rcParams\n",
    "import matplotlib.pyplot as plt\n",
    "import seaborn as sns\n",
    "import missingno as msno\n",
    "\n",
    "# Use ggplot style for plots with a clean, professional look\n",
    "plt.style.use('ggplot')  \n",
    "\n",
    "# # Remove the spines (borders) of plots for a minimalist design\n",
    "rcParams['axes.spines.right'] = False  # Remove the right spines (border) for a minimalist design\n",
    "rcParams['axes.spines.top'] = False  # Remove the top spines (border) for a minimalist design\n",
    "rcParams['figure.figsize'] = [12, 9]  # Set default figure size\n",
    "\n",
    "%config InlineBackend.figure_format = 'retina'  # Enhance plot resolution for high-quality rendering on Retina displays"
   ]
  },
  {
   "cell_type": "markdown",
   "id": "c71f9e4b",
   "metadata": {},
   "source": [
    "---\n",
    "### └─ **2.4. Configure notebook interactivity**"
   ]
  },
  {
   "cell_type": "code",
   "execution_count": null,
   "id": "4b8ee26b",
   "metadata": {},
   "outputs": [],
   "source": [
    "import logging\n",
    "import warnings\n",
    "from IPython.core.interactiveshell import InteractiveShell\n",
    "\n",
    "# Configure logging to display messages with level INFO and above, with a simple format\n",
    "logging.basicConfig(\n",
    "    level=logging.INFO,\n",
    "    format=\"%(levelname)s: %(message)s\"\n",
    ")\n",
    "\n",
    "# Hides warnings like deprecation notices or convergence warnings\n",
    "warnings.filterwarnings('ignore')\n",
    "\n",
    "# Configure IPython to display all expressions in a cell, not just the last one\n",
    "# InteractiveShell.ast_node_interactivity = 'all'  # Postpone until after data download to avoid excessive outputs\n",
    "\n",
    "# Disable Jedi autocompletion in IPython for faster tab completion\n",
    "%config Completer.use_jedi = False  "
   ]
  },
  {
   "cell_type": "markdown",
   "id": "64cf5a2a",
   "metadata": {},
   "source": [
    "---\n",
    "### └─ **2.5. Configure relative imports**"
   ]
  },
  {
   "cell_type": "code",
   "execution_count": null,
   "id": "0111d824",
   "metadata": {},
   "outputs": [],
   "source": [
    "import sys\n",
    "from pathlib import Path\n",
    "\n",
    "# Add project root to sys.path\n",
    "project_root = Path().resolve().parent  # if running from folder with parent directory as project root\n",
    "sys.path.append(str(project_root))"
   ]
  },
  {
   "cell_type": "markdown",
   "id": "9a1071fb",
   "metadata": {},
   "source": [
    "---\n",
    "### └─ **2.6. Get configurations from `config.yaml`**"
   ]
  },
  {
   "cell_type": "code",
   "execution_count": null,
   "id": "9b9ad337",
   "metadata": {},
   "outputs": [],
   "source": [
    "config_path = \"../config.yaml\"\n",
    "with open(config_path, \"r\", encoding=\"utf-8\") as file:\n",
    "    config = yaml.safe_load(file)\n",
    "\n",
    "DATA_FILE_PATH = config[\"data_file_path\"]\n",
    "IDENTIFIER_COLUMN = config[\"identifier_column\"]\n",
    "TARGET_COLUMN = config[\"target_column\"]\n",
    "RANDOM_STATE = config[\"random_state\"]\n",
    "TEST_SIZE = config[\"test_size\"]"
   ]
  },
  {
   "cell_type": "markdown",
   "id": "37345e6c",
   "metadata": {},
   "source": [
    "---\n",
    "### └─ **2.7. Load dataaset into Pandas DataFrame**"
   ]
  },
  {
   "cell_type": "code",
   "execution_count": null,
   "id": "f1cf88e3",
   "metadata": {},
   "outputs": [],
   "source": [
    "RELATIVE_FILE_PATH = Path(\"../\", DATA_FILE_PATH)\n",
    "\n",
    "df = pd.read_csv(RELATIVE_FILE_PATH)\n",
    "df.head()"
   ]
  },
  {
   "cell_type": "markdown",
   "id": "3aeba4d8",
   "metadata": {},
   "source": [
    "---\n",
    "---\n",
    "---\n",
    "# **🔎 3. Basic Exploration**\n",
    "\n",
    "- Insights from the basic exploration are captured here; the original analysis is in `basic_exploration.ipynb`.\n",
    "\n",
    "- That notebook runs generic, reusable workflows, so it can be executed automatically without edits for fast analysis.\n",
    "\n",
    "- This notebook focuses on project-specific, in-depth analysis, while only summarizing key findings from the basic exploration.\n",
    "\n",
    "- [➡️ Go to the Basic Exploration Notebook](basic_exploration.ipynb)"
   ]
  },
  {
   "cell_type": "markdown",
   "id": "0edf8aec",
   "metadata": {},
   "source": [
    "[Insert Findings]"
   ]
  },
  {
   "cell_type": "markdown",
   "id": "1c3d5606",
   "metadata": {},
   "source": [
    "---\n",
    "---\n",
    "---\n",
    "# **🧼 4. Data Cleaning**\n",
    "\n",
    "- Insights from the basic exploration are captured here; the original analysis is in `basic_exploration.ipynb`.\n",
    "\n",
    "- That notebook runs generic, reusable workflows, so it can be executed automatically without edits for fast analysis.\n",
    "\n",
    "- This notebook focuses on project-specific, in-depth analysis, while only summarizing key findings from the basic exploration."
   ]
  },
  {
   "cell_type": "code",
   "execution_count": null,
   "id": "538523a9",
   "metadata": {},
   "outputs": [],
   "source": [
    "from src.data_explorer import DataExplorer\n",
    "from src.data_cleaner import DataCleaner\n",
    "\n",
    "explorer = DataExplorer()\n",
    "cleaner = DataCleaner()"
   ]
  },
  {
   "cell_type": "code",
   "execution_count": null,
   "id": "088d3e30",
   "metadata": {},
   "outputs": [],
   "source": [
    "explorer.perform_univariate_analysis(df=df, feature=\"shares\")"
   ]
  },
  {
   "cell_type": "markdown",
   "id": "b5f98a83",
   "metadata": {},
   "source": [
    "---\n",
    "---\n",
    "## └─ **4.1. Apply snake_case**\n",
    "\n"
   ]
  },
  {
   "cell_type": "code",
   "execution_count": null,
   "id": "1a98f2b8",
   "metadata": {},
   "outputs": [],
   "source": [
    "df_cleaned = cleaner.convert_column_names_to_snake_case(df=df, show=True)"
   ]
  },
  {
   "cell_type": "code",
   "execution_count": null,
   "id": "13a4fe8d",
   "metadata": {},
   "outputs": [],
   "source": []
  },
  {
   "cell_type": "code",
   "execution_count": null,
   "id": "f8dacd1d",
   "metadata": {},
   "outputs": [],
   "source": []
  },
  {
   "cell_type": "code",
   "execution_count": null,
   "id": "b3115ba0",
   "metadata": {},
   "outputs": [],
   "source": []
  },
  {
   "cell_type": "code",
   "execution_count": null,
   "id": "0e02b359",
   "metadata": {},
   "outputs": [],
   "source": []
  }
 ],
 "metadata": {
  "kernelspec": {
   "display_name": "Python 3",
   "language": "python",
   "name": "python3"
  },
  "language_info": {
   "codemirror_mode": {
    "name": "ipython",
    "version": 3
   },
   "file_extension": ".py",
   "mimetype": "text/x-python",
   "name": "python",
   "nbconvert_exporter": "python",
   "pygments_lexer": "ipython3",
   "version": "3.12.0"
  }
 },
 "nbformat": 4,
 "nbformat_minor": 5
}
