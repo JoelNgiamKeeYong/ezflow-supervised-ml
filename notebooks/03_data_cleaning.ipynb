{
 "cells": [
  {
   "cell_type": "markdown",
   "id": "61ec6cca",
   "metadata": {},
   "source": [
    "# **🧼🫧🧹 Data Cleaning**\n",
    "\n",
    "<img src=\"../assets/banner_data_cleaning.png\" style=\"width:95%\">\n",
    "\n",
    "- **Data Cleaning** is a critical step in preparing your dataset for meaningful analysis and modeling.  \n",
    "\n",
    "- A well-cleaned dataset reduces bias, improves model performance, and prevents misleading conclusions.  \n",
    "\n",
    "- This notebook uses **manual coding** to ensure each feature is properly reviewed and cleaned.  \n",
    "\n",
    "- Make sure to update the `data_file_path`, `identifier_column` and `target_column` entries in your `config.yaml` file before running the notebook."
   ]
  },
  {
   "cell_type": "markdown",
   "id": "a63cf2ad",
   "metadata": {},
   "source": [
    "---\n",
    "---\n",
    "**📦 Import General Libraries**"
   ]
  },
  {
   "cell_type": "code",
   "execution_count": null,
   "id": "38d7b472",
   "metadata": {},
   "outputs": [],
   "source": [
    "import pandas as pd"
   ]
  },
  {
   "cell_type": "markdown",
   "id": "d02e3800",
   "metadata": {},
   "source": [
    "---\n",
    "**⚙️ Configure Imports**"
   ]
  },
  {
   "cell_type": "code",
   "execution_count": 2,
   "id": "499c99d5",
   "metadata": {},
   "outputs": [],
   "source": [
    "import sys\n",
    "from pathlib import Path\n",
    "\n",
    "# Add project root to sys.path\n",
    "project_root = Path().resolve().parent  # if running from folder with parent directory as project root\n",
    "sys.path.append(str(project_root))"
   ]
  },
  {
   "cell_type": "markdown",
   "id": "9d7586db",
   "metadata": {},
   "source": [
    "---\n",
    "**🔧 Configure Notebook**"
   ]
  },
  {
   "cell_type": "code",
   "execution_count": 3,
   "id": "23b11c37",
   "metadata": {},
   "outputs": [],
   "source": [
    "from IPython.core.interactiveshell import InteractiveShell\n",
    "\n",
    "InteractiveShell.ast_node_interactivity = 'all'  # Show all outputs in a cell"
   ]
  },
  {
   "cell_type": "markdown",
   "id": "50be7c6d",
   "metadata": {},
   "source": [
    "---\n",
    "**🔧 Import Pipeline Classes**"
   ]
  },
  {
   "cell_type": "code",
   "execution_count": 4,
   "id": "65ab7650",
   "metadata": {},
   "outputs": [],
   "source": [
    "from src.data_explorer import DataExplorer\n",
    "from src.data_cleaner import DataCleaner\n",
    "\n",
    "explorer = DataExplorer()\n",
    "cleaner = DataCleaner()"
   ]
  },
  {
   "cell_type": "markdown",
   "id": "385e9b52",
   "metadata": {},
   "source": [
    "---\n",
    "**🚀 Load Config from `config.yaml`**"
   ]
  },
  {
   "cell_type": "code",
   "execution_count": 5,
   "id": "044fb934",
   "metadata": {},
   "outputs": [],
   "source": [
    "import yaml\n",
    "\n",
    "config_path = \"../config.yaml\"\n",
    "with open(config_path, \"r\", encoding=\"utf-8\") as file:\n",
    "    config = yaml.safe_load(file)\n",
    "\n",
    "DATA_FILE_PATH = config[\"data_file_path\"]\n",
    "IDENTIFIER_COLUMN = config[\"identifier_column\"]\n",
    "TARGET_COLUMN = config[\"target_column\"]\n",
    "RANDOM_STATE = config[\"random_state\"]\n",
    "TEST_SIZE = config[\"test_size\"]"
   ]
  },
  {
   "cell_type": "markdown",
   "id": "7bd147e2",
   "metadata": {},
   "source": [
    "---\n",
    "**📥 Load Data into Pandas DataFrame**"
   ]
  },
  {
   "cell_type": "code",
   "execution_count": 6,
   "id": "a3787773",
   "metadata": {},
   "outputs": [
    {
     "data": {
      "text/html": [
       "<div>\n",
       "<style scoped>\n",
       "    .dataframe tbody tr th:only-of-type {\n",
       "        vertical-align: middle;\n",
       "    }\n",
       "\n",
       "    .dataframe tbody tr th {\n",
       "        vertical-align: top;\n",
       "    }\n",
       "\n",
       "    .dataframe thead th {\n",
       "        text-align: right;\n",
       "    }\n",
       "</style>\n",
       "<table border=\"1\" class=\"dataframe\">\n",
       "  <thead>\n",
       "    <tr style=\"text-align: right;\">\n",
       "      <th></th>\n",
       "      <th>ID</th>\n",
       "      <th>URL</th>\n",
       "      <th>timedelta</th>\n",
       "      <th>weekday</th>\n",
       "      <th>shares</th>\n",
       "      <th>n_tokens_title</th>\n",
       "      <th>n_tokens_content</th>\n",
       "      <th>n_unique_tokens</th>\n",
       "      <th>n_non_stop_words</th>\n",
       "      <th>n_non_stop_unique_tokens</th>\n",
       "      <th>...</th>\n",
       "      <th>num_keywords</th>\n",
       "      <th>kw_min_min</th>\n",
       "      <th>kw_max_min</th>\n",
       "      <th>kw_avg_min</th>\n",
       "      <th>kw_min_max</th>\n",
       "      <th>kw_max_max</th>\n",
       "      <th>kw_avg_max</th>\n",
       "      <th>kw_min_avg</th>\n",
       "      <th>kw_max_avg</th>\n",
       "      <th>kw_avg_avg</th>\n",
       "    </tr>\n",
       "  </thead>\n",
       "  <tbody>\n",
       "    <tr>\n",
       "      <th>0</th>\n",
       "      <td>0</td>\n",
       "      <td>http://mashable.com/2013/01/07/amazon-instant-...</td>\n",
       "      <td>731.0</td>\n",
       "      <td>monday</td>\n",
       "      <td>593</td>\n",
       "      <td>12.0</td>\n",
       "      <td>219.0</td>\n",
       "      <td>0.663594</td>\n",
       "      <td>1.0</td>\n",
       "      <td>0.815385</td>\n",
       "      <td>...</td>\n",
       "      <td>5.0</td>\n",
       "      <td>0.0</td>\n",
       "      <td>0.0</td>\n",
       "      <td>0.0</td>\n",
       "      <td>0.0</td>\n",
       "      <td>0.0</td>\n",
       "      <td>0.0</td>\n",
       "      <td>0.0</td>\n",
       "      <td>0.0</td>\n",
       "      <td>0.0</td>\n",
       "    </tr>\n",
       "    <tr>\n",
       "      <th>1</th>\n",
       "      <td>1</td>\n",
       "      <td>http://mashable.com/2013/01/07/ap-samsung-spon...</td>\n",
       "      <td>731.0</td>\n",
       "      <td>monday</td>\n",
       "      <td>711</td>\n",
       "      <td>9.0</td>\n",
       "      <td>255.0</td>\n",
       "      <td>0.604743</td>\n",
       "      <td>1.0</td>\n",
       "      <td>0.791946</td>\n",
       "      <td>...</td>\n",
       "      <td>4.0</td>\n",
       "      <td>0.0</td>\n",
       "      <td>0.0</td>\n",
       "      <td>0.0</td>\n",
       "      <td>0.0</td>\n",
       "      <td>0.0</td>\n",
       "      <td>0.0</td>\n",
       "      <td>0.0</td>\n",
       "      <td>0.0</td>\n",
       "      <td>0.0</td>\n",
       "    </tr>\n",
       "    <tr>\n",
       "      <th>2</th>\n",
       "      <td>2</td>\n",
       "      <td>http://mashable.com/2013/01/07/apple-40-billio...</td>\n",
       "      <td>731.0</td>\n",
       "      <td>monday</td>\n",
       "      <td>1500</td>\n",
       "      <td>9.0</td>\n",
       "      <td>211.0</td>\n",
       "      <td>0.575130</td>\n",
       "      <td>1.0</td>\n",
       "      <td>0.663866</td>\n",
       "      <td>...</td>\n",
       "      <td>6.0</td>\n",
       "      <td>0.0</td>\n",
       "      <td>0.0</td>\n",
       "      <td>0.0</td>\n",
       "      <td>0.0</td>\n",
       "      <td>0.0</td>\n",
       "      <td>0.0</td>\n",
       "      <td>0.0</td>\n",
       "      <td>0.0</td>\n",
       "      <td>0.0</td>\n",
       "    </tr>\n",
       "    <tr>\n",
       "      <th>3</th>\n",
       "      <td>3</td>\n",
       "      <td>http://mashable.com/2013/01/07/astronaut-notre...</td>\n",
       "      <td>731.0</td>\n",
       "      <td>monday</td>\n",
       "      <td>1200</td>\n",
       "      <td>9.0</td>\n",
       "      <td>531.0</td>\n",
       "      <td>0.503788</td>\n",
       "      <td>1.0</td>\n",
       "      <td>0.665635</td>\n",
       "      <td>...</td>\n",
       "      <td>7.0</td>\n",
       "      <td>0.0</td>\n",
       "      <td>0.0</td>\n",
       "      <td>0.0</td>\n",
       "      <td>0.0</td>\n",
       "      <td>0.0</td>\n",
       "      <td>0.0</td>\n",
       "      <td>0.0</td>\n",
       "      <td>0.0</td>\n",
       "      <td>0.0</td>\n",
       "    </tr>\n",
       "    <tr>\n",
       "      <th>4</th>\n",
       "      <td>4</td>\n",
       "      <td>http://mashable.com/2013/01/07/att-u-verse-apps/</td>\n",
       "      <td>731.0</td>\n",
       "      <td>monday</td>\n",
       "      <td>505</td>\n",
       "      <td>13.0</td>\n",
       "      <td>1072.0</td>\n",
       "      <td>0.415646</td>\n",
       "      <td>1.0</td>\n",
       "      <td>0.540890</td>\n",
       "      <td>...</td>\n",
       "      <td>7.0</td>\n",
       "      <td>0.0</td>\n",
       "      <td>0.0</td>\n",
       "      <td>0.0</td>\n",
       "      <td>0.0</td>\n",
       "      <td>0.0</td>\n",
       "      <td>0.0</td>\n",
       "      <td>0.0</td>\n",
       "      <td>0.0</td>\n",
       "      <td>0.0</td>\n",
       "    </tr>\n",
       "  </tbody>\n",
       "</table>\n",
       "<p>5 rows × 30 columns</p>\n",
       "</div>"
      ],
      "text/plain": [
       "   ID                                                URL  timedelta weekday  \\\n",
       "0   0  http://mashable.com/2013/01/07/amazon-instant-...      731.0  monday   \n",
       "1   1  http://mashable.com/2013/01/07/ap-samsung-spon...      731.0  monday   \n",
       "2   2  http://mashable.com/2013/01/07/apple-40-billio...      731.0  monday   \n",
       "3   3  http://mashable.com/2013/01/07/astronaut-notre...      731.0  monday   \n",
       "4   4   http://mashable.com/2013/01/07/att-u-verse-apps/      731.0  monday   \n",
       "\n",
       "   shares  n_tokens_title  n_tokens_content  n_unique_tokens  \\\n",
       "0     593            12.0             219.0         0.663594   \n",
       "1     711             9.0             255.0         0.604743   \n",
       "2    1500             9.0             211.0         0.575130   \n",
       "3    1200             9.0             531.0         0.503788   \n",
       "4     505            13.0            1072.0         0.415646   \n",
       "\n",
       "   n_non_stop_words  n_non_stop_unique_tokens  ...  num_keywords  kw_min_min  \\\n",
       "0               1.0                  0.815385  ...           5.0         0.0   \n",
       "1               1.0                  0.791946  ...           4.0         0.0   \n",
       "2               1.0                  0.663866  ...           6.0         0.0   \n",
       "3               1.0                  0.665635  ...           7.0         0.0   \n",
       "4               1.0                  0.540890  ...           7.0         0.0   \n",
       "\n",
       "   kw_max_min  kw_avg_min  kw_min_max  kw_max_max kw_avg_max  kw_min_avg  \\\n",
       "0         0.0         0.0         0.0         0.0        0.0         0.0   \n",
       "1         0.0         0.0         0.0         0.0        0.0         0.0   \n",
       "2         0.0         0.0         0.0         0.0        0.0         0.0   \n",
       "3         0.0         0.0         0.0         0.0        0.0         0.0   \n",
       "4         0.0         0.0         0.0         0.0        0.0         0.0   \n",
       "\n",
       "   kw_max_avg  kw_avg_avg  \n",
       "0         0.0         0.0  \n",
       "1         0.0         0.0  \n",
       "2         0.0         0.0  \n",
       "3         0.0         0.0  \n",
       "4         0.0         0.0  \n",
       "\n",
       "[5 rows x 30 columns]"
      ]
     },
     "execution_count": 6,
     "metadata": {},
     "output_type": "execute_result"
    }
   ],
   "source": [
    "RELATIVE_FILE_PATH = Path(\"../\", DATA_FILE_PATH)\n",
    "\n",
    "df = pd.read_csv(RELATIVE_FILE_PATH)\n",
    "df.head()"
   ]
  },
  {
   "cell_type": "markdown",
   "id": "159041f6",
   "metadata": {},
   "source": [
    "---\n",
    "---\n",
    "# **🧼 1. Apply Snake Case**\n",
    "\n",
    "- Using `snake_case` aligns with PEP 8, Python’s official style guide for code readability and consistency.\n",
    "\n",
    "- It ensures column names are consistent and easy to read, avoiding spaces or special characters that can break code.\n",
    "\n",
    "- Standardized naming makes data manipulation, merging, and referencing columns in scripts much smoother.\n",
    "\n",
    "- Following PEP 8 conventions improves code maintainability, readability, and reduces potential errors in data pipelines."
   ]
  },
  {
   "cell_type": "code",
   "execution_count": 7,
   "id": "1f6a4c0c",
   "metadata": {},
   "outputs": [
    {
     "name": "stdout",
     "output_type": "stream",
     "text": [
      "   └── Converting column names to snake_case...\n",
      "   └── Cleaning mode='snake_case_columns' completed in 0.00 seconds\n"
     ]
    },
    {
     "data": {
      "text/plain": [
       "Index(['id', 'url', 'timedelta', 'weekday', 'shares', 'n_tokens_title',\n",
       "       'n_tokens_content', 'n_unique_tokens', 'n_non_stop_words',\n",
       "       'n_non_stop_unique_tokens', 'num_hrefs', 'num_self_hrefs', 'num_imgs',\n",
       "       'num_videos', 'n_comments', 'average_token_length', 'data_channel',\n",
       "       'self_reference_min_shares', 'self_reference_max_shares',\n",
       "       'self_reference_avg_shares', 'num_keywords', 'kw_min_min', 'kw_max_min',\n",
       "       'kw_avg_min', 'kw_min_max', 'kw_max_max', 'kw_avg_max', 'kw_min_avg',\n",
       "       'kw_max_avg', 'kw_avg_avg'],\n",
       "      dtype='object')"
      ]
     },
     "execution_count": 7,
     "metadata": {},
     "output_type": "execute_result"
    }
   ],
   "source": [
    "df_cleaned = cleaner.clean_all(df=df, mode=\"snake_case_columns\")\n",
    "df_cleaned.columns"
   ]
  },
  {
   "cell_type": "markdown",
   "id": "fefed64b",
   "metadata": {},
   "source": [
    "**└─ 💡 Observations / Insights ──**\n",
    "\n",
    "- Column names successfully amended "
   ]
  },
  {
   "cell_type": "markdown",
   "id": "aaf5e747",
   "metadata": {},
   "source": [
    "---\n",
    "---\n",
    "# **🧼 2. Rearrange Columns**\n",
    "\n",
    "- Move the **target column** to the front for easier reference.  \n",
    "\n",
    "- Keeps the dataset organized and makes analysis or model training steps more intuitive.  "
   ]
  },
  {
   "cell_type": "code",
   "execution_count": 8,
   "id": "d0508232",
   "metadata": {},
   "outputs": [
    {
     "name": "stdout",
     "output_type": "stream",
     "text": [
      "   └── Moving column 'shares' before 'id'...\n",
      "   └── Cleaning mode='rearrange_columns' completed in 0.01 seconds\n"
     ]
    },
    {
     "data": {
      "text/html": [
       "<div>\n",
       "<style scoped>\n",
       "    .dataframe tbody tr th:only-of-type {\n",
       "        vertical-align: middle;\n",
       "    }\n",
       "\n",
       "    .dataframe tbody tr th {\n",
       "        vertical-align: top;\n",
       "    }\n",
       "\n",
       "    .dataframe thead th {\n",
       "        text-align: right;\n",
       "    }\n",
       "</style>\n",
       "<table border=\"1\" class=\"dataframe\">\n",
       "  <thead>\n",
       "    <tr style=\"text-align: right;\">\n",
       "      <th></th>\n",
       "      <th>shares</th>\n",
       "      <th>id</th>\n",
       "      <th>url</th>\n",
       "      <th>timedelta</th>\n",
       "      <th>weekday</th>\n",
       "      <th>n_tokens_title</th>\n",
       "      <th>n_tokens_content</th>\n",
       "      <th>n_unique_tokens</th>\n",
       "      <th>n_non_stop_words</th>\n",
       "      <th>n_non_stop_unique_tokens</th>\n",
       "      <th>...</th>\n",
       "      <th>num_keywords</th>\n",
       "      <th>kw_min_min</th>\n",
       "      <th>kw_max_min</th>\n",
       "      <th>kw_avg_min</th>\n",
       "      <th>kw_min_max</th>\n",
       "      <th>kw_max_max</th>\n",
       "      <th>kw_avg_max</th>\n",
       "      <th>kw_min_avg</th>\n",
       "      <th>kw_max_avg</th>\n",
       "      <th>kw_avg_avg</th>\n",
       "    </tr>\n",
       "  </thead>\n",
       "  <tbody>\n",
       "    <tr>\n",
       "      <th>0</th>\n",
       "      <td>593</td>\n",
       "      <td>0</td>\n",
       "      <td>http://mashable.com/2013/01/07/amazon-instant-...</td>\n",
       "      <td>731.0</td>\n",
       "      <td>monday</td>\n",
       "      <td>12.0</td>\n",
       "      <td>219.0</td>\n",
       "      <td>0.663594</td>\n",
       "      <td>1.0</td>\n",
       "      <td>0.815385</td>\n",
       "      <td>...</td>\n",
       "      <td>5.0</td>\n",
       "      <td>0.0</td>\n",
       "      <td>0.0</td>\n",
       "      <td>0.0</td>\n",
       "      <td>0.0</td>\n",
       "      <td>0.0</td>\n",
       "      <td>0.0</td>\n",
       "      <td>0.0</td>\n",
       "      <td>0.0</td>\n",
       "      <td>0.0</td>\n",
       "    </tr>\n",
       "  </tbody>\n",
       "</table>\n",
       "<p>1 rows × 30 columns</p>\n",
       "</div>"
      ],
      "text/plain": [
       "   shares  id                                                url  timedelta  \\\n",
       "0     593   0  http://mashable.com/2013/01/07/amazon-instant-...      731.0   \n",
       "\n",
       "  weekday  n_tokens_title  n_tokens_content  n_unique_tokens  \\\n",
       "0  monday            12.0             219.0         0.663594   \n",
       "\n",
       "   n_non_stop_words  n_non_stop_unique_tokens  ...  num_keywords  kw_min_min  \\\n",
       "0               1.0                  0.815385  ...           5.0         0.0   \n",
       "\n",
       "   kw_max_min  kw_avg_min  kw_min_max  kw_max_max kw_avg_max  kw_min_avg  \\\n",
       "0         0.0         0.0         0.0         0.0        0.0         0.0   \n",
       "\n",
       "   kw_max_avg  kw_avg_avg  \n",
       "0         0.0         0.0  \n",
       "\n",
       "[1 rows x 30 columns]"
      ]
     },
     "execution_count": 8,
     "metadata": {},
     "output_type": "execute_result"
    }
   ],
   "source": [
    "df_cleaned = cleaner.clean_all(df=df_cleaned, mode=\"rearrange_columns\")\n",
    "df_cleaned.head(1)"
   ]
  },
  {
   "cell_type": "markdown",
   "id": "4b14b0ec",
   "metadata": {},
   "source": [
    "**└─ 💡 Observations / Insights ──**\n",
    "\n",
    "- Columns successfully rearranged"
   ]
  },
  {
   "cell_type": "markdown",
   "id": "980f240b",
   "metadata": {},
   "source": [
    "---\n",
    "---\n",
    "# **🧼 3. Drop Irrelevant Features**\n",
    "\n",
    "- Remove columns that do not contribute to the analysis (e.g., IDs).  \n",
    "\n",
    "- Drop **post-hoc features** that won’t be available at prediction time to avoid **data leakage**.  \n",
    "\n",
    "- Example: When predicting `resale_price`, exclude `resale_price_USD` since it’s just a transformed version of the target."
   ]
  },
  {
   "cell_type": "code",
   "execution_count": 9,
   "id": "f181c9a4",
   "metadata": {},
   "outputs": [
    {
     "name": "stdout",
     "output_type": "stream",
     "text": [
      "<class 'pandas.core.frame.DataFrame'>\n",
      "RangeIndex: 35680 entries, 0 to 35679\n",
      "Data columns (total 30 columns):\n",
      " #   Column                     Non-Null Count  Dtype  \n",
      "---  ------                     --------------  -----  \n",
      " 0   shares                     35680 non-null  int64  \n",
      " 1   id                         35680 non-null  int64  \n",
      " 2   url                        35680 non-null  object \n",
      " 3   timedelta                  35680 non-null  float64\n",
      " 4   weekday                    35680 non-null  object \n",
      " 5   n_tokens_title             35680 non-null  float64\n",
      " 6   n_tokens_content           35680 non-null  float64\n",
      " 7   n_unique_tokens            35680 non-null  float64\n",
      " 8   n_non_stop_words           35680 non-null  float64\n",
      " 9   n_non_stop_unique_tokens   35680 non-null  float64\n",
      " 10  num_hrefs                  34959 non-null  float64\n",
      " 11  num_self_hrefs             34959 non-null  float64\n",
      " 12  num_imgs                   34261 non-null  float64\n",
      " 13  num_videos                 18925 non-null  float64\n",
      " 14  n_comments                 35680 non-null  float64\n",
      " 15  average_token_length       35680 non-null  float64\n",
      " 16  data_channel               30218 non-null  object \n",
      " 17  self_reference_min_shares  34959 non-null  float64\n",
      " 18  self_reference_max_shares  34959 non-null  float64\n",
      " 19  self_reference_avg_shares  34959 non-null  float64\n",
      " 20  num_keywords               35680 non-null  float64\n",
      " 21  kw_min_min                 35680 non-null  float64\n",
      " 22  kw_max_min                 35680 non-null  float64\n",
      " 23  kw_avg_min                 35680 non-null  float64\n",
      " 24  kw_min_max                 35680 non-null  float64\n",
      " 25  kw_max_max                 35680 non-null  float64\n",
      " 26  kw_avg_max                 35680 non-null  float64\n",
      " 27  kw_min_avg                 35680 non-null  float64\n",
      " 28  kw_max_avg                 35680 non-null  float64\n",
      " 29  kw_avg_avg                 35680 non-null  float64\n",
      "dtypes: float64(25), int64(2), object(3)\n",
      "memory usage: 8.2+ MB\n"
     ]
    }
   ],
   "source": [
    "df_cleaned.info()"
   ]
  },
  {
   "cell_type": "code",
   "execution_count": 11,
   "id": "f42b477f",
   "metadata": {},
   "outputs": [
    {
     "name": "stdout",
     "output_type": "stream",
     "text": [
      "   └── None of the specified columns exist in DataFrame. Nothing dropped.\n",
      "   └── Cleaning mode='irrelevant' completed in 0.00 seconds\n",
      "<class 'pandas.core.frame.DataFrame'>\n",
      "RangeIndex: 35680 entries, 0 to 35679\n",
      "Data columns (total 10 columns):\n",
      " #   Column                     Non-Null Count  Dtype  \n",
      "---  ------                     --------------  -----  \n",
      " 0   shares                     35680 non-null  int64  \n",
      " 1   timedelta                  35680 non-null  float64\n",
      " 2   weekday                    35680 non-null  object \n",
      " 3   n_tokens_title             35680 non-null  float64\n",
      " 4   n_tokens_content           35680 non-null  float64\n",
      " 5   n_unique_tokens            35680 non-null  float64\n",
      " 6   data_channel               30218 non-null  object \n",
      " 7   self_reference_min_shares  34959 non-null  float64\n",
      " 8   self_reference_max_shares  34959 non-null  float64\n",
      " 9   self_reference_avg_shares  34959 non-null  float64\n",
      "dtypes: float64(7), int64(1), object(2)\n",
      "memory usage: 2.7+ MB\n"
     ]
    }
   ],
   "source": [
    "df_cleaned = cleaner.clean_all(df=df_cleaned, mode=\"irrelevant\")\n",
    "df_cleaned.info()"
   ]
  },
  {
   "cell_type": "markdown",
   "id": "6715bb78",
   "metadata": {},
   "source": [
    "**└─ 💡 Observations / Insights ──**\n",
    "\n",
    "- Irrelevant features successfully dropped"
   ]
  },
  {
   "cell_type": "markdown",
   "id": "8af6cd6d",
   "metadata": {},
   "source": [
    "---\n",
    "---\n",
    "# **🧼 4. Explore Target Variable**\n",
    "\n",
    "- Examine the **distribution** of the target variable.  \n",
    "  - For regression: check spread, skewness, and outliers.  \n",
    "  - For classification: review class balance and frequency counts.  \n",
    "\n",
    "- Detect potential **issues** (e.g., extreme outliers in regression, class imbalance in classification).  \n",
    "\n",
    "- Consider whether **transformations** (e.g., log-scaling for regression, class grouping for classification) are needed to improve analysis or model performance.  "
   ]
  },
  {
   "cell_type": "code",
   "execution_count": null,
   "id": "13697eae",
   "metadata": {},
   "outputs": [],
   "source": [
    "explorer.perform_univariate_analysis(df=df_cleaned, feature=TARGET_COLUMN, show_plots=True)"
   ]
  },
  {
   "cell_type": "markdown",
   "id": "69a3547e",
   "metadata": {},
   "source": [
    "**└─ 💡 Observations / Insights ──**\n",
    "\n",
    "- Irrelevant features successfully dropped"
   ]
  },
  {
   "cell_type": "markdown",
   "id": "b5163dfe",
   "metadata": {},
   "source": [
    "---\n",
    "## **└─ Remove Outliers**\n",
    "\n",
    "- Using IQR method due to right-skewness of distribution"
   ]
  },
  {
   "cell_type": "code",
   "execution_count": null,
   "id": "ad921155",
   "metadata": {},
   "outputs": [],
   "source": [
    "Q1, Q3 = df_cleaned[\"shares\"].quantile([0.25, 0.75])\n",
    "IQR = Q3 - Q1\n",
    "\n",
    "lower_bound = Q1 - (1.5 * IQR)\n",
    "upper_bound = Q3 + (1.5 * IQR)\n",
    "\n",
    "lower_bound, upper_bound"
   ]
  },
  {
   "cell_type": "code",
   "execution_count": null,
   "id": "2ad710c9",
   "metadata": {},
   "outputs": [],
   "source": [
    "df_lower_outliers = df[df['shares'] < lower_bound]\n",
    "df_upper_outliers = df[df['shares'] > upper_bound]\n",
    "\n",
    "df_lower_outliers\n",
    "df_upper_outliers.sample(5)"
   ]
  },
  {
   "cell_type": "code",
   "execution_count": null,
   "id": "e3a1cb0f",
   "metadata": {},
   "outputs": [],
   "source": [
    "df_non_outliers = df[(df['shares'] > lower_bound) & (df['shares'] < upper_bound)]\n",
    "explorer.perform_univariate_analysis(df=df_non_outliers, feature='shares', show_plots=True)"
   ]
  },
  {
   "cell_type": "markdown",
   "id": "25a35834",
   "metadata": {},
   "source": [
    "---\n",
    "---\n",
    "# **🧼 5. Explore `weekday`**\n",
    "\n",
    "- `Comment`\n",
    "\n",
    "- `Comment`\n",
    "\n",
    "- `Comment`"
   ]
  },
  {
   "cell_type": "code",
   "execution_count": null,
   "id": "218db565",
   "metadata": {},
   "outputs": [],
   "source": []
  },
  {
   "cell_type": "code",
   "execution_count": null,
   "id": "6ccdbbaa",
   "metadata": {},
   "outputs": [],
   "source": []
  },
  {
   "cell_type": "code",
   "execution_count": null,
   "id": "cb1adcc8",
   "metadata": {},
   "outputs": [],
   "source": []
  },
  {
   "cell_type": "markdown",
   "id": "d6f8fa1d",
   "metadata": {},
   "source": [
    "---\n",
    "---\n",
    "# **🧼 X. Explore `[COLUMN NAME]`**\n",
    "\n",
    "- `Comment`\n",
    "\n",
    "- `Comment`\n",
    "\n",
    "- `Comment`"
   ]
  },
  {
   "cell_type": "code",
   "execution_count": null,
   "id": "6f813d4b",
   "metadata": {},
   "outputs": [],
   "source": [
    "# Insert code"
   ]
  },
  {
   "cell_type": "markdown",
   "id": "07a9460c",
   "metadata": {},
   "source": [
    "**└─ 💡 Observations / Insights ──**\n",
    "\n",
    "- `Observation`"
   ]
  },
  {
   "cell_type": "markdown",
   "id": "69a03058",
   "metadata": {},
   "source": [
    "---\n",
    "---\n",
    "---"
   ]
  }
 ],
 "metadata": {
  "kernelspec": {
   "display_name": "Python 3",
   "language": "python",
   "name": "python3"
  },
  "language_info": {
   "codemirror_mode": {
    "name": "ipython",
    "version": 3
   },
   "file_extension": ".py",
   "mimetype": "text/x-python",
   "name": "python",
   "nbconvert_exporter": "python",
   "pygments_lexer": "ipython3",
   "version": "3.12.0"
  }
 },
 "nbformat": 4,
 "nbformat_minor": 5
}
