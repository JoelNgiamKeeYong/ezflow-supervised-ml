{
 "cells": [
  {
   "cell_type": "markdown",
   "id": "975b081b",
   "metadata": {},
   "source": [
    "# ⌛ **AI Sandbox**\n",
    "\n",
    "_Practice makes perfect_\n",
    "\n",
    "<img src=\"assets/sandbox.jpg\" alt=\"AI Sandbox Banner\" width=\"95%\">"
   ]
  },
  {
   "cell_type": "code",
   "execution_count": 1,
   "id": "ac600be0",
   "metadata": {},
   "outputs": [
    {
     "data": {
      "text/html": [
       "<div>\n",
       "<style scoped>\n",
       "    .dataframe tbody tr th:only-of-type {\n",
       "        vertical-align: middle;\n",
       "    }\n",
       "\n",
       "    .dataframe tbody tr th {\n",
       "        vertical-align: top;\n",
       "    }\n",
       "\n",
       "    .dataframe thead th {\n",
       "        text-align: right;\n",
       "    }\n",
       "</style>\n",
       "<table border=\"1\" class=\"dataframe\">\n",
       "  <thead>\n",
       "    <tr style=\"text-align: right;\">\n",
       "      <th></th>\n",
       "      <th>Unnamed: 0</th>\n",
       "      <th>Risk_Category</th>\n",
       "      <th>Age</th>\n",
       "      <th>Gender</th>\n",
       "      <th>Comorbidities</th>\n",
       "      <th>Length_of_Stay</th>\n",
       "      <th>Smoking_Status</th>\n",
       "      <th>Medication_Adherence</th>\n",
       "      <th>Socioeconomic_Status</th>\n",
       "      <th>Number_of_Previous_Admissions</th>\n",
       "    </tr>\n",
       "  </thead>\n",
       "  <tbody>\n",
       "    <tr>\n",
       "      <th>0</th>\n",
       "      <td>0</td>\n",
       "      <td>High-risk</td>\n",
       "      <td>63.0</td>\n",
       "      <td>Male</td>\n",
       "      <td>4.0</td>\n",
       "      <td>7 days</td>\n",
       "      <td>Non-smoker</td>\n",
       "      <td>Low</td>\n",
       "      <td>Low</td>\n",
       "      <td>5.0</td>\n",
       "    </tr>\n",
       "    <tr>\n",
       "      <th>1</th>\n",
       "      <td>1</td>\n",
       "      <td>High-risk</td>\n",
       "      <td>67.0</td>\n",
       "      <td>Male</td>\n",
       "      <td>3.0</td>\n",
       "      <td>2 days</td>\n",
       "      <td>Non-smoker</td>\n",
       "      <td>Low</td>\n",
       "      <td>Low</td>\n",
       "      <td>4.0</td>\n",
       "    </tr>\n",
       "    <tr>\n",
       "      <th>2</th>\n",
       "      <td>2</td>\n",
       "      <td>Low-risk</td>\n",
       "      <td>34.0</td>\n",
       "      <td>Female</td>\n",
       "      <td>1.0</td>\n",
       "      <td>7 days</td>\n",
       "      <td>Non-smoker</td>\n",
       "      <td>Medium</td>\n",
       "      <td>Medium</td>\n",
       "      <td>5.0</td>\n",
       "    </tr>\n",
       "    <tr>\n",
       "      <th>3</th>\n",
       "      <td>3</td>\n",
       "      <td>High-risk</td>\n",
       "      <td>63.0</td>\n",
       "      <td>Male</td>\n",
       "      <td>5.0</td>\n",
       "      <td>3 days</td>\n",
       "      <td>Smoker</td>\n",
       "      <td>Medium</td>\n",
       "      <td>Medium</td>\n",
       "      <td>2.0</td>\n",
       "    </tr>\n",
       "    <tr>\n",
       "      <th>4</th>\n",
       "      <td>4</td>\n",
       "      <td>High-risk</td>\n",
       "      <td>45.0</td>\n",
       "      <td>Female</td>\n",
       "      <td>1.0</td>\n",
       "      <td>7 days</td>\n",
       "      <td>Smoker</td>\n",
       "      <td>High</td>\n",
       "      <td>Low</td>\n",
       "      <td>3.0</td>\n",
       "    </tr>\n",
       "  </tbody>\n",
       "</table>\n",
       "</div>"
      ],
      "text/plain": [
       "   Unnamed: 0 Risk_Category   Age  Gender  Comorbidities Length_of_Stay  \\\n",
       "0           0     High-risk  63.0    Male            4.0         7 days   \n",
       "1           1     High-risk  67.0    Male            3.0         2 days   \n",
       "2           2      Low-risk  34.0  Female            1.0         7 days   \n",
       "3           3     High-risk  63.0    Male            5.0         3 days   \n",
       "4           4     High-risk  45.0  Female            1.0         7 days   \n",
       "\n",
       "  Smoking_Status Medication_Adherence Socioeconomic_Status  \\\n",
       "0     Non-smoker                  Low                  Low   \n",
       "1     Non-smoker                  Low                  Low   \n",
       "2     Non-smoker               Medium               Medium   \n",
       "3         Smoker               Medium               Medium   \n",
       "4         Smoker                 High                  Low   \n",
       "\n",
       "   Number_of_Previous_Admissions  \n",
       "0                            5.0  \n",
       "1                            4.0  \n",
       "2                            5.0  \n",
       "3                            2.0  \n",
       "4                            3.0  "
      ]
     },
     "execution_count": 1,
     "metadata": {},
     "output_type": "execute_result"
    }
   ],
   "source": [
    "from IPython import InteractiveShell\n",
    "\n",
    "InteractiveShell.ast_node_interactivity = 'all'\n",
    "\n",
    "import pandas as pd\n",
    "\n",
    "df = pd.read_csv(\"data/data.csv\")\n",
    "df.head()"
   ]
  },
  {
   "cell_type": "code",
   "execution_count": 39,
   "id": "2e5349d9",
   "metadata": {},
   "outputs": [
    {
     "name": "stdout",
     "output_type": "stream",
     "text": [
      "<class 'pandas.core.frame.DataFrame'>\n",
      "RangeIndex: 35680 entries, 0 to 35679\n",
      "Data columns (total 30 columns):\n",
      " #   Column                     Non-Null Count  Dtype  \n",
      "---  ------                     --------------  -----  \n",
      " 0   ID                         35680 non-null  int64  \n",
      " 1   URL                        35680 non-null  object \n",
      " 2   timedelta                  35680 non-null  float64\n",
      " 3   weekday                    35680 non-null  object \n",
      " 4   shares                     35680 non-null  int64  \n",
      " 5   n_tokens_title             35680 non-null  float64\n",
      " 6   n_tokens_content           35680 non-null  float64\n",
      " 7   n_unique_tokens            35680 non-null  float64\n",
      " 8   n_non_stop_words           35680 non-null  float64\n",
      " 9   n_non_stop_unique_tokens   35680 non-null  float64\n",
      " 10  num_hrefs                  34959 non-null  float64\n",
      " 11  num_self_hrefs             34959 non-null  float64\n",
      " 12  num_imgs                   34261 non-null  float64\n",
      " 13  num_videos                 18925 non-null  float64\n",
      " 14  n_comments                 35680 non-null  float64\n",
      " 15  average_token_length       35680 non-null  float64\n",
      " 16  data_channel               30218 non-null  object \n",
      " 17  self_reference_min_shares  34959 non-null  float64\n",
      " 18  self_reference_max_shares  34959 non-null  float64\n",
      " 19  self_reference_avg_shares  34959 non-null  float64\n",
      " 20  num_keywords               35680 non-null  float64\n",
      " 21  kw_min_min                 35680 non-null  float64\n",
      " 22  kw_max_min                 35680 non-null  float64\n",
      " 23  kw_avg_min                 35680 non-null  float64\n",
      " 24  kw_min_max                 35680 non-null  float64\n",
      " 25  kw_max_max                 35680 non-null  float64\n",
      " 26  kw_avg_max                 35680 non-null  float64\n",
      " 27  kw_min_avg                 35680 non-null  float64\n",
      " 28  kw_max_avg                 35680 non-null  float64\n",
      " 29  kw_avg_avg                 35680 non-null  float64\n",
      "dtypes: float64(25), int64(2), object(3)\n",
      "memory usage: 8.2+ MB\n"
     ]
    }
   ],
   "source": [
    "df.info()"
   ]
  },
  {
   "cell_type": "code",
   "execution_count": 51,
   "id": "1c5b0a80",
   "metadata": {},
   "outputs": [
    {
     "data": {
      "text/plain": [
       "data_channel\n",
       "world            0.250612\n",
       "technology       0.219803\n",
       "entertainment    0.212026\n",
       "business         0.186081\n",
       "social_media     0.069131\n",
       "lifestyle        0.062347\n",
       "Name: proportion, dtype: float64"
      ]
     },
     "execution_count": 51,
     "metadata": {},
     "output_type": "execute_result"
    }
   ],
   "source": [
    "df['data_channel'].value_counts(normalize=True)"
   ]
  },
  {
   "cell_type": "code",
   "execution_count": 37,
   "id": "b89e879b",
   "metadata": {},
   "outputs": [
    {
     "data": {
      "text/plain": [
       "<Axes: xlabel='shares', ylabel='Count'>"
      ]
     },
     "execution_count": 37,
     "metadata": {},
     "output_type": "execute_result"
    },
    {
     "data": {
      "image/png": "[encoded data removed]",
      "text/plain": [
       "<Figure size 640x480 with 1 Axes>"
      ]
     },
     "metadata": {},
     "output_type": "display_data"
    }
   ],
   "source": [
    "import seaborn as sns\n",
    "\n",
    "Q1 = df['shares'].quantile(0.25)\n",
    "Q3 = df['shares'].quantile(0.75)\n",
    "IQR = Q3 - Q1\n",
    "\n",
    "lower_bound = Q1 - 1.5 * IQR\n",
    "higher_bound = Q3 + 1.5 * IQR\n",
    "\n",
    "df_outliers_lower = df[df[\"shares\"] < lower_bound]\n",
    "df_outliers_higher = df[df[\"shares\"] > higher_bound]\n",
    "\n",
    "df_non_outliers = df[\n",
    "    (df['shares'] > lower_bound)\n",
    "    & (df['shares'] < higher_bound)\n",
    "]\n",
    "\n",
    "\n",
    "sns.histplot(data=df_non_outliers, x='shares', bins=50, kde=True)"
   ]
  },
  {
   "cell_type": "code",
   "execution_count": null,
   "id": "5ee00a13",
   "metadata": {},
   "outputs": [],
   "source": []
  },
  {
   "cell_type": "markdown",
   "id": "9a1bdd4f",
   "metadata": {},
   "source": [
    "---\n",
    "---\n",
    "---"
   ]
  }
 ],
 "metadata": {
  "kernelspec": {
   "display_name": "Python 3",
   "language": "python",
   "name": "python3"
  },
  "language_info": {
   "codemirror_mode": {
    "name": "ipython",
    "version": 3
   },
   "file_extension": ".py",
   "mimetype": "text/x-python",
   "name": "python",
   "nbconvert_exporter": "python",
   "pygments_lexer": "ipython3",
   "version": "3.12.0"
  }
 },
 "nbformat": 4,
 "nbformat_minor": 5
}
