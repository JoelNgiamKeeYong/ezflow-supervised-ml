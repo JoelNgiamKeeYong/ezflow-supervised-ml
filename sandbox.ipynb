{
 "cells": [
  {
   "cell_type": "markdown",
   "id": "975b081b",
   "metadata": {},
   "source": [
    "# ⌛ **AI Sandbox**\n",
    "\n",
    "_Practice makes perfect_\n",
    "\n",
    "<img src=\"assets/sandbox.jpg\" alt=\"AI Sandbox Banner\" width=\"95%\">"
   ]
  },
  {
   "cell_type": "code",
   "execution_count": null,
   "id": "ac600be0",
   "metadata": {},
   "outputs": [],
   "source": []
  },
  {
   "cell_type": "code",
   "execution_count": null,
   "id": "bea7cca4",
   "metadata": {},
   "outputs": [],
   "source": []
  },
  {
   "cell_type": "code",
   "execution_count": null,
   "id": "d3af727b",
   "metadata": {},
   "outputs": [],
   "source": []
  },
  {
   "cell_type": "code",
   "execution_count": null,
   "id": "5ee00a13",
   "metadata": {},
   "outputs": [],
   "source": []
  },
  {
   "cell_type": "markdown",
   "id": "9a1bdd4f",
   "metadata": {},
   "source": [
    "---\n",
    "---\n",
    "---"
   ]
  }
 ],
 "metadata": {
  "kernelspec": {
   "display_name": "Python 3",
   "language": "python",
   "name": "python3"
  },
  "language_info": {
   "codemirror_mode": {
    "name": "ipython",
    "version": 3
   },
   "file_extension": ".py",
   "mimetype": "text/x-python",
   "name": "python",
   "nbconvert_exporter": "python",
   "pygments_lexer": "ipython3",
   "version": "3.12.0"
  }
 },
 "nbformat": 4,
 "nbformat_minor": 5
}
